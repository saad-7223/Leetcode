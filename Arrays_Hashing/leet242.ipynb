{
 "cells": [
  {
   "cell_type": "markdown",
   "metadata": {},
   "source": [
    "### ANAGRAM - 242\n",
    "Example 1:<br>\n",
    "\n",
    "Input: s = \"anagram\", t = \"nagaram\"<br>\n",
    "Output: true<br>\n",
    "Example 2:<br>\n",
    "\n",
    "Input: s = \"rat\", t = \"car\"<br>\n",
    "Output: false<br>"
   ]
  },
  {
   "cell_type": "code",
   "execution_count": 1,
   "metadata": {},
   "outputs": [
    {
     "name": "stdout",
     "output_type": "stream",
     "text": [
      "True\n"
     ]
    }
   ],
   "source": [
    "def anagram(s,t):\n",
    "    if len(s)!=len(t):\n",
    "        return False\n",
    "    else:\n",
    "        need = set(t)\n",
    "        for i in need:\n",
    "            if s.count(i) != t.count(i):\n",
    "                return False\n",
    "        return True\n",
    "s = \"anagram\"\n",
    "t = \"nagaram\"\n",
    "print(anagram(s,t))"
   ]
  },
  {
   "cell_type": "code",
   "execution_count": 5,
   "metadata": {},
   "outputs": [
    {
     "name": "stdout",
     "output_type": "stream",
     "text": [
      "False\n"
     ]
    }
   ],
   "source": [
    "def ana(s,t):\n",
    "    if len(s) != len(t):\n",
    "        return False\n",
    "\n",
    "    s_freq = {}\n",
    "    t_freq = {}\n",
    "    for char in range(len(s)):\n",
    "        s_freq[char] = s_freq.get(char, 0) + 1\n",
    "    for char in t:\n",
    "        t_freq[char] = t_freq.get(char, 0) + 1\n",
    "\n",
    "    return s_freq == t_freq\n",
    "\n",
    "s = \"anagram\"\n",
    "t = \"naguram\"\n",
    "print(ana(s,t))"
   ]
  },
  {
   "cell_type": "code",
   "execution_count": null,
   "metadata": {},
   "outputs": [],
   "source": []
  }
 ],
 "metadata": {
  "kernelspec": {
   "display_name": "Python 3",
   "language": "python",
   "name": "python3"
  },
  "language_info": {
   "codemirror_mode": {
    "name": "ipython",
    "version": 3
   },
   "file_extension": ".py",
   "mimetype": "text/x-python",
   "name": "python",
   "nbconvert_exporter": "python",
   "pygments_lexer": "ipython3",
   "version": "3.11.3"
  }
 },
 "nbformat": 4,
 "nbformat_minor": 2
}
