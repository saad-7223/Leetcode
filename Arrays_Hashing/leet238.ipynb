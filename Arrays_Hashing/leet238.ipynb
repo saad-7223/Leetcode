{
 "cells": [
  {
   "cell_type": "code",
   "execution_count": 14,
   "metadata": {},
   "outputs": [
    {
     "name": "stdout",
     "output_type": "stream",
     "text": [
      "[24, 0, 0, 0, 0]\n"
     ]
    }
   ],
   "source": [
    "def prod(nums):\n",
    "        z_count = 0\n",
    "        prod = 1\n",
    "        for i in nums:\n",
    "            if i ==0 :\n",
    "                z_count += 1\n",
    "            else:\n",
    "                prod *=i\n",
    "\n",
    "        if z_count > 1:\n",
    "            return [0] * len(nums)\n",
    "        \n",
    "        elif z_count == 1:\n",
    "            pos = nums.index(0)\n",
    "            res = [0]*len(nums)\n",
    "            res[pos] = prod\n",
    "            return res\n",
    "        \n",
    "        else:\n",
    "            res = [1]*len(nums)\n",
    "            prefix , postfix = 1 , 1\n",
    "            for i in range(len(nums)):\n",
    "                res[i] = prefix\n",
    "                prefix *= nums[i]\n",
    "            for j in range(len(nums)-1,-1,-1):\n",
    "                res[j] *= postfix\n",
    "                postfix *= nums[j]\n",
    "            return res\n",
    "        \n",
    "print(prod([0,1 , 2, 3, 4]))"
   ]
  },
  {
   "cell_type": "code",
   "execution_count": null,
   "metadata": {},
   "outputs": [],
   "source": []
  }
 ],
 "metadata": {
  "kernelspec": {
   "display_name": "Python 3",
   "language": "python",
   "name": "python3"
  },
  "language_info": {
   "codemirror_mode": {
    "name": "ipython",
    "version": 3
   },
   "file_extension": ".py",
   "mimetype": "text/x-python",
   "name": "python",
   "nbconvert_exporter": "python",
   "pygments_lexer": "ipython3",
   "version": "3.11.3"
  }
 },
 "nbformat": 4,
 "nbformat_minor": 2
}
