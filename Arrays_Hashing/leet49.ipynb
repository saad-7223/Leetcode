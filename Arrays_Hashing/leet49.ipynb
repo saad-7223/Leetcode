{
 "cells": [
  {
   "cell_type": "code",
   "execution_count": 22,
   "metadata": {},
   "outputs": [],
   "source": [
    "l = [\"eat\",\"tea\",\"tan\",\"ate\",\"nat\",\"bat\"]"
   ]
  },
  {
   "cell_type": "code",
   "execution_count": 25,
   "metadata": {},
   "outputs": [
    {
     "name": "stdout",
     "output_type": "stream",
     "text": [
      "dict_values([['']])\n"
     ]
    }
   ],
   "source": [
    "from collections import defaultdict\n",
    "def grp_anagram(l):\n",
    "    res = defaultdict(list)\n",
    "    for ele in l:\n",
    "        count = [0]*26\n",
    "        for ch in ele:\n",
    "            count[ord(ch)-ord('a')] += 1\n",
    "        res[tuple(count)].append(ele)\n",
    "    return res.values()\n",
    "\n",
    "\n",
    "print(grp_anagram([\"\"]))"
   ]
  },
  {
   "cell_type": "code",
   "execution_count": 29,
   "metadata": {},
   "outputs": [
    {
     "name": "stdout",
     "output_type": "stream",
     "text": [
      "[['']]\n"
     ]
    }
   ],
   "source": [
    "def groupAnagrams(strs):\n",
    "        anagram_map = defaultdict(list)\n",
    "        \n",
    "        for word in strs:\n",
    "            sorted_word = ''.join(sorted(word))\n",
    "            anagram_map[sorted_word].append(word)\n",
    "        \n",
    "        return list(anagram_map.values())\n",
    "\n",
    "print(groupAnagrams([\"\"]))"
   ]
  },
  {
   "cell_type": "code",
   "execution_count": null,
   "metadata": {},
   "outputs": [],
   "source": []
  }
 ],
 "metadata": {
  "kernelspec": {
   "display_name": "Python 3",
   "language": "python",
   "name": "python3"
  },
  "language_info": {
   "codemirror_mode": {
    "name": "ipython",
    "version": 3
   },
   "file_extension": ".py",
   "mimetype": "text/x-python",
   "name": "python",
   "nbconvert_exporter": "python",
   "pygments_lexer": "ipython3",
   "version": "3.11.3"
  }
 },
 "nbformat": 4,
 "nbformat_minor": 2
}
