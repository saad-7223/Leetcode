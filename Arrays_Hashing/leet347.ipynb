{
 "cells": [
  {
   "cell_type": "markdown",
   "metadata": {},
   "source": [
    "347. Top K Frequent Elements<br>\n",
    "\n",
    "Given an integer array nums and an integer k, return the k most frequent elements. You may return the answer in any order.\n",
    "\n",
    "Example 1:<br>\n",
    "\n",
    "Input: nums = [1,1,1,2,2,3], k = 2<br>\n",
    "Output: [1,2]<br>\n",
    "Example 2:<br>\n",
    "\n",
    "Input: nums = [1], k = 1<br>\n",
    "Output: [1]<br>"
   ]
  },
  {
   "cell_type": "code",
   "execution_count": 40,
   "metadata": {},
   "outputs": [
    {
     "name": "stdout",
     "output_type": "stream",
     "text": [
      "[5, 1]\n"
     ]
    }
   ],
   "source": [
    "def top_freq(nums , k):\n",
    "    d = {}\n",
    "    for i in nums:\n",
    "        d[i] = d.get(i,0) + 1\n",
    "    filtered = sorted(zip(d.values(),d.keys()),reverse=True)[:k]\n",
    "    return [ele[1] for ele in filtered]\n",
    "   \n",
    "\n",
    "print(top_freq([1,1,4,5,5,5],2))"
   ]
  },
  {
   "cell_type": "code",
   "execution_count": 47,
   "metadata": {},
   "outputs": [
    {
     "name": "stdout",
     "output_type": "stream",
     "text": [
      "[3, 5]\n"
     ]
    }
   ],
   "source": [
    "def t_freq(nums , k):\n",
    "    count = {}\n",
    "    freq = [[] for i in range(len(nums)+1)]\n",
    "\n",
    "    for n in nums:\n",
    "        count[n] = count.get(n,0) + 1\n",
    "\n",
    "    for n,c in count.items():\n",
    "        freq[c].append(n)\n",
    "    \n",
    "    res = []\n",
    "    for ele in range(len(freq)-1 ,0 ,-1):\n",
    "        for j in freq[ele]:\n",
    "            res.append(j)\n",
    "            if len(res) == k:\n",
    "                return res\n",
    "            \n",
    "print(t_freq([1,3,1,3,4,5,5,3,5],2))\n"
   ]
  }
 ],
 "metadata": {
  "kernelspec": {
   "display_name": "Python 3",
   "language": "python",
   "name": "python3"
  },
  "language_info": {
   "codemirror_mode": {
    "name": "ipython",
    "version": 3
   },
   "file_extension": ".py",
   "mimetype": "text/x-python",
   "name": "python",
   "nbconvert_exporter": "python",
   "pygments_lexer": "ipython3",
   "version": "3.11.3"
  }
 },
 "nbformat": 4,
 "nbformat_minor": 2
}
