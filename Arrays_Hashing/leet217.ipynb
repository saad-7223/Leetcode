{
 "cells": [
  {
   "cell_type": "markdown",
   "metadata": {},
   "source": [
    "#### Given an integer array nums, return true if any value appears at least twice in the array, and return false if every element is distinct.<br>\n",
    " \n",
    "\n",
    "Example 1:<br>\n",
    "\n",
    "Input: nums = [1,2,3,1]<br>\n",
    "Output: true<br>\n",
    "\n",
    "Example 2:<br>\n",
    "\n",
    "Input: nums = [1,2,3,4]<br>\n",
    "Output: false<br>\n",
    "\n",
    "Example 3:<br>\n",
    "\n",
    "Input: nums = [1,1,1,3,3,4,3,2,4,2]<br>\n",
    "Output: true<br>\n",
    " \n",
    "\n",
    "Constraints:<br>\n",
    "\n",
    "1 <= nums.length <= 105<br>\n",
    "-109 <= nums[i] <= 109<br>"
   ]
  },
  {
   "cell_type": "code",
   "execution_count": 13,
   "metadata": {},
   "outputs": [
    {
     "name": "stdout",
     "output_type": "stream",
     "text": [
      "True\n",
      "False\n",
      "True\n"
     ]
    }
   ],
   "source": [
    "def duplicates(nums):\n",
    "    s = set()\n",
    "    for i in nums:\n",
    "        if i not in s:\n",
    "            s.add(i)\n",
    "        else: return True\n",
    "    return False\n",
    "\n",
    "print(duplicates([1,2,3,1]))\n",
    "print(duplicates([1,2,3,4]))\n",
    "print(duplicates([1,1,1,2,3,3,3,4,4,3,1]))"
   ]
  }
 ],
 "metadata": {
  "kernelspec": {
   "display_name": "Python 3",
   "language": "python",
   "name": "python3"
  },
  "language_info": {
   "codemirror_mode": {
    "name": "ipython",
    "version": 3
   },
   "file_extension": ".py",
   "mimetype": "text/x-python",
   "name": "python",
   "nbconvert_exporter": "python",
   "pygments_lexer": "ipython3",
   "version": "3.11.3"
  }
 },
 "nbformat": 4,
 "nbformat_minor": 2
}
